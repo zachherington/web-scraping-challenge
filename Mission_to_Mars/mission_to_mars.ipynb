{
 "metadata": {
  "language_info": {
   "codemirror_mode": {
    "name": "ipython",
    "version": 3
   },
   "file_extension": ".py",
   "mimetype": "text/x-python",
   "name": "python",
   "nbconvert_exporter": "python",
   "pygments_lexer": "ipython3",
   "version": "3.6.10-final"
  },
  "orig_nbformat": 2,
  "kernelspec": {
   "name": "python_defaultSpec_1599017886125",
   "display_name": "Python 3.6.10 64-bit ('PythonData': conda)"
  }
 },
 "nbformat": 4,
 "nbformat_minor": 2,
 "cells": [
  {
   "cell_type": "code",
   "execution_count": 1,
   "metadata": {},
   "outputs": [],
   "source": [
    "# Dependencies\n",
    "from splinter import Browser\n",
    "from bs4 import BeautifulSoup as bs\n",
    "import pandas as pd\n",
    "import requests\n",
    "import pymongo\n",
    "from flask import Flask, render_template, redirect\n",
    "from flask_pymongo import PyMongo"
   ]
  },
  {
   "cell_type": "code",
   "execution_count": 2,
   "metadata": {},
   "outputs": [],
   "source": [
    "executable_path = {'executable_path': '.\\\\resources\\\\chromedriver.exe'}\n",
    "browser = Browser('chrome', **executable_path, headless=False)"
   ]
  },
  {
   "cell_type": "code",
   "execution_count": 55,
   "metadata": {},
   "outputs": [],
   "source": [
    "## Data Scraping NASA's News Page ##\n",
    "\n",
    "# Opens web page\n",
    "nasa_url = 'https://mars.nasa.gov/news/?page=0&per_page=40&order=publish_date+desc%2Ccreated_at+desc&search=&category=19%2C165%2C184%2C204&blank_scope=Latest'\n",
    "\n",
    "browser.visit(nasa_url)\n",
    "html = browser.html\n",
    "\n",
    "nasa_soup = bs(html, 'html.parser')"
   ]
  },
  {
   "cell_type": "code",
   "execution_count": 10,
   "metadata": {
    "tags": []
   },
   "outputs": [
    {
     "output_type": "stream",
     "name": "stdout",
     "text": "Latest Headline:\nNASA Engineers Checking InSight's Weather Sensors\nHeadline Description:\nAn electronics issue is suspected to be preventing the sensors from sharing their data about Mars weather with the spacecraft.\n"
    }
   ],
   "source": [
    "# Find the Latest News Headline \n",
    "latest_headline = nasa_soup.find_all('div',class_ = 'content_title')[1].text\n",
    "headline_desc = nasa_soup.find_all('div', class_ = 'article_teaser_body')[0].text\n",
    "\n",
    "print(\"Latest Headline:\")\n",
    "print(latest_headline)\n",
    "print(\"Headline Description:\")\n",
    "print(headline_desc)"
   ]
  },
  {
   "cell_type": "code",
   "execution_count": 56,
   "metadata": {},
   "outputs": [],
   "source": [
    "## Data Scraping JPL's Space Image Page ##\n",
    "\n",
    "# Find the JPL Featured Image\n",
    "jpl_base_url = 'https://www.jpl.nasa.gov'\n",
    "jpl_home_url = 'https://www.jpl.nasa.gov/spaceimages/?search=&category=Mars'\n",
    "browser.visit(jpl_home_url)"
   ]
  },
  {
   "cell_type": "code",
   "execution_count": 57,
   "metadata": {
    "tags": []
   },
   "outputs": [
    {
     "output_type": "stream",
     "name": "stdout",
     "text": "https://www.jpl.nasa.gov/spaceimages/images/largesize/PIA16029_hires.jpg\n"
    }
   ],
   "source": [
    "# Navigate to Full Image Url\n",
    "browser.click_link_by_id(id = 'full_image')\n",
    "browser.click_link_by_partial_text('more info')\n",
    "\n",
    "html = browser.html\n",
    "jpl_soup = bs(html, 'html.parser')\n",
    "\n",
    "full_image_path = jpl_soup.find(class_ = 'main_image')[\"src\"]\n",
    "\n",
    "featured_image_url = jpl_base_url + full_image_path\n",
    "print(featured_image_url)\n",
    "browser.visit(featured_image_url)\n"
   ]
  },
  {
   "cell_type": "code",
   "execution_count": 58,
   "metadata": {},
   "outputs": [],
   "source": [
    "## Data Scraping Mars Facts ##\n",
    "\n",
    "facts_url = \"https://space-facts.com/mars/\"\n",
    "\n",
    "browser.visit(facts_url)\n",
    "html = browser.html\n",
    "\n",
    "facts_soup = bs(html, 'html.parser')\n"
   ]
  },
  {
   "cell_type": "code",
   "execution_count": 66,
   "metadata": {},
   "outputs": [
    {
     "output_type": "execute_result",
     "data": {
      "text/plain": "                      0                              1\n0  Equatorial Diameter:                       6,792 km\n1       Polar Diameter:                       6,752 km\n2                 Mass:  6.39 × 10^23 kg (0.11 Earths)\n3                Moons:            2 (Phobos & Deimos)\n4       Orbit Distance:       227,943,824 km (1.38 AU)\n5         Orbit Period:           687 days (1.9 years)\n6  Surface Temperature:                   -87 to -5 °C\n7         First Record:              2nd millennium BC\n8          Recorded By:           Egyptian astronomers",
      "text/html": "<div>\n<style scoped>\n    .dataframe tbody tr th:only-of-type {\n        vertical-align: middle;\n    }\n\n    .dataframe tbody tr th {\n        vertical-align: top;\n    }\n\n    .dataframe thead th {\n        text-align: right;\n    }\n</style>\n<table border=\"1\" class=\"dataframe\">\n  <thead>\n    <tr style=\"text-align: right;\">\n      <th></th>\n      <th>0</th>\n      <th>1</th>\n    </tr>\n  </thead>\n  <tbody>\n    <tr>\n      <th>0</th>\n      <td>Equatorial Diameter:</td>\n      <td>6,792 km</td>\n    </tr>\n    <tr>\n      <th>1</th>\n      <td>Polar Diameter:</td>\n      <td>6,752 km</td>\n    </tr>\n    <tr>\n      <th>2</th>\n      <td>Mass:</td>\n      <td>6.39 × 10^23 kg (0.11 Earths)</td>\n    </tr>\n    <tr>\n      <th>3</th>\n      <td>Moons:</td>\n      <td>2 (Phobos &amp; Deimos)</td>\n    </tr>\n    <tr>\n      <th>4</th>\n      <td>Orbit Distance:</td>\n      <td>227,943,824 km (1.38 AU)</td>\n    </tr>\n    <tr>\n      <th>5</th>\n      <td>Orbit Period:</td>\n      <td>687 days (1.9 years)</td>\n    </tr>\n    <tr>\n      <th>6</th>\n      <td>Surface Temperature:</td>\n      <td>-87 to -5 °C</td>\n    </tr>\n    <tr>\n      <th>7</th>\n      <td>First Record:</td>\n      <td>2nd millennium BC</td>\n    </tr>\n    <tr>\n      <th>8</th>\n      <td>Recorded By:</td>\n      <td>Egyptian astronomers</td>\n    </tr>\n  </tbody>\n</table>\n</div>"
     },
     "metadata": {},
     "execution_count": 66
    }
   ],
   "source": [
    "# Use pandas to scrape and mars facts\n",
    "facts_table = pd.read_html(facts_url)[0]\n",
    "facts_table"
   ]
  },
  {
   "cell_type": "code",
   "execution_count": 75,
   "metadata": {},
   "outputs": [],
   "source": [
    "# Convert the data to a html table string and save to 'mars_facts.html' for easy reference\n",
    "facts_html = facts_table.to_html('mars_facts.html')\n"
   ]
  },
  {
   "cell_type": "code",
   "execution_count": 32,
   "metadata": {},
   "outputs": [],
   "source": [
    "## Data Scraping Mars Hemisphere Images ##\n",
    "hemi_base_url = \"https://astrogeology.usgs.gov\"\n",
    "hemi_home_url = \"https://astrogeology.usgs.gov/search/results?q=hemisphere+enhanced&k1=target&v1=Mars\"\n",
    "\n",
    "browser.visit(hemi_home_url)\n",
    "html = browser.html\n",
    "\n",
    "hemi_soup = bs(html, 'html.parser')\n"
   ]
  },
  {
   "cell_type": "code",
   "execution_count": 34,
   "metadata": {
    "tags": []
   },
   "outputs": [
    {
     "output_type": "stream",
     "name": "stdout",
     "text": "[{'Hemisphere Name': 'Cerberus Hemisphere Enhanced', 'Image Url': 'https://astropedia.astrogeology.usgs.gov/download/Mars/Viking/cerberus_enhanced.tif/full.jpg'}, {'Hemisphere Name': 'Schiaparelli Hemisphere Enhanced', 'Image Url': 'https://astropedia.astrogeology.usgs.gov/download/Mars/Viking/schiaparelli_enhanced.tif/full.jpg'}, {'Hemisphere Name': 'Syrtis Major Hemisphere Enhanced', 'Image Url': 'https://astropedia.astrogeology.usgs.gov/download/Mars/Viking/syrtis_major_enhanced.tif/full.jpg'}, {'Hemisphere Name': 'Valles Marineris Hemisphere Enhanced', 'Image Url': 'https://astropedia.astrogeology.usgs.gov/download/Mars/Viking/valles_marineris_enhanced.tif/full.jpg'}]\n"
    }
   ],
   "source": [
    "# Save HD image url string and corresponding titles\n",
    "all_hemi_sections = hemi_soup.find_all(class_ = 'description')\n",
    "all_hemi_sections\n",
    "\n",
    "hemi_list = []\n",
    "\n",
    "for hemi in all_hemi_sections:\n",
    "    \n",
    "    # Find Titles for Hemishperes\n",
    "    hemi_title = hemi.find('h3').text\n",
    "    \n",
    "    # Navigate to next page urls\n",
    "    hemi_nextpage = hemi.find('a')['href']\n",
    "    browser.visit(hemi_base_url + hemi_nextpage)\n",
    "\n",
    "    html2 = browser.html\n",
    "    image_soup = bs(html2, 'html.parser')\n",
    "\n",
    "    # Finds the HD image urls\n",
    "    image_section = image_soup.find(class_ = 'downloads')\n",
    "    hemi_image = image_section.find('li').a['href']\n",
    "\n",
    "    # Stores results to a dict so we can append 'hemi_list'\n",
    "    hemi_dict = {}\n",
    "    hemi_dict['Hemisphere Name'] = hemi_title\n",
    "    hemi_dict['Image Url'] = hemi_image\n",
    "\n",
    "    hemi_list.append(hemi_dict)\n",
    "\n",
    "\n",
    "print(hemi_list)\n"
   ]
  },
  {
   "cell_type": "code",
   "execution_count": null,
   "metadata": {},
   "outputs": [],
   "source": []
  }
 ]
}